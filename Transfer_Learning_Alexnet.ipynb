{
  "nbformat": 4,
  "nbformat_minor": 0,
  "metadata": {
    "colab": {
      "provenance": [],
      "authorship_tag": "ABX9TyPLJo/ydtntU2F7VV/02HBE",
      "include_colab_link": true
    },
    "kernelspec": {
      "name": "python3",
      "display_name": "Python 3"
    },
    "language_info": {
      "name": "python"
    },
    "accelerator": "GPU",
    "gpuClass": "standard"
  },
  "cells": [
    {
      "cell_type": "markdown",
      "metadata": {
        "id": "view-in-github",
        "colab_type": "text"
      },
      "source": [
        "<a href=\"https://colab.research.google.com/github/Sohail1173/Alexnet-Architecture-Advanced-CNN/blob/main/Transfer_Learning_Alexnet.ipynb\" target=\"_parent\"><img src=\"https://colab.research.google.com/assets/colab-badge.svg\" alt=\"Open In Colab\"/></a>"
      ]
    },
    {
      "cell_type": "code",
      "execution_count": 1,
      "metadata": {
        "colab": {
          "base_uri": "https://localhost:8080/"
        },
        "id": "ZYHwpnhnZuI2",
        "outputId": "c6e1ca61-d72a-456c-999b-be293d6ff1cf"
      },
      "outputs": [
        {
          "output_type": "stream",
          "name": "stdout",
          "text": [
            "Looking in indexes: https://pypi.org/simple, https://us-python.pkg.dev/colab-wheels/public/simple/\n",
            "Collecting tflearn\n",
            "  Downloading tflearn-0.5.0.tar.gz (107 kB)\n",
            "\u001b[?25l\r\u001b[K     |███                             | 10 kB 32.3 MB/s eta 0:00:01\r\u001b[K     |██████                          | 20 kB 38.4 MB/s eta 0:00:01\r\u001b[K     |█████████▏                      | 30 kB 45.0 MB/s eta 0:00:01\r\u001b[K     |████████████▏                   | 40 kB 29.2 MB/s eta 0:00:01\r\u001b[K     |███████████████▎                | 51 kB 29.1 MB/s eta 0:00:01\r\u001b[K     |██████████████████▎             | 61 kB 32.7 MB/s eta 0:00:01\r\u001b[K     |█████████████████████▍          | 71 kB 28.0 MB/s eta 0:00:01\r\u001b[K     |████████████████████████▍       | 81 kB 29.7 MB/s eta 0:00:01\r\u001b[K     |███████████████████████████▌    | 92 kB 32.0 MB/s eta 0:00:01\r\u001b[K     |██████████████████████████████▌ | 102 kB 34.0 MB/s eta 0:00:01\r\u001b[K     |████████████████████████████████| 107 kB 34.0 MB/s \n",
            "\u001b[?25hRequirement already satisfied: numpy in /usr/local/lib/python3.7/dist-packages (from tflearn) (1.21.6)\n",
            "Requirement already satisfied: six in /usr/local/lib/python3.7/dist-packages (from tflearn) (1.15.0)\n",
            "Requirement already satisfied: Pillow in /usr/local/lib/python3.7/dist-packages (from tflearn) (7.1.2)\n",
            "Building wheels for collected packages: tflearn\n",
            "  Building wheel for tflearn (setup.py) ... \u001b[?25l\u001b[?25hdone\n",
            "  Created wheel for tflearn: filename=tflearn-0.5.0-py3-none-any.whl size=127299 sha256=966adb00781a2c57effcbd2e23b889a1f16d43f7cbe89c03da4112b6169be60e\n",
            "  Stored in directory: /root/.cache/pip/wheels/5f/14/2e/1d8e28cc47a5a931a2fb82438c9e37ef9246cc6a3774520271\n",
            "Successfully built tflearn\n",
            "Installing collected packages: tflearn\n",
            "Successfully installed tflearn-0.5.0\n"
          ]
        }
      ],
      "source": [
        "!pip install tflearn "
      ]
    },
    {
      "cell_type": "code",
      "source": [
        "import tensorflow\n",
        "import keras\n",
        "from keras.models import Sequential\n",
        "from  keras.layers import Dense, Activation, Dropout, Flatten,\\\n",
        " Conv2D, MaxPooling2D, BatchNormalization\n",
        "import numpy as np\n",
        "np.random.seed(1000)"
      ],
      "metadata": {
        "id": "nzgP8p1BaXJO"
      },
      "execution_count": 2,
      "outputs": []
    },
    {
      "cell_type": "code",
      "source": [
        "# (2) Get Data\n",
        "import tflearn.datasets.oxflower17 as oxflower17\n",
        "x, y = oxflower17.load_data(one_hot=True)"
      ],
      "metadata": {
        "colab": {
          "base_uri": "https://localhost:8080/"
        },
        "id": "dmajNIzabJn9",
        "outputId": "bb7d0185-177a-4243-d650-d643dd7c1f65"
      },
      "execution_count": 3,
      "outputs": [
        {
          "output_type": "stream",
          "name": "stderr",
          "text": [
            "WARNING:tensorflow:From /usr/local/lib/python3.7/dist-packages/tensorflow/python/compat/v2_compat.py:107: disable_resource_variables (from tensorflow.python.ops.variable_scope) is deprecated and will be removed in a future version.\n",
            "Instructions for updating:\n",
            "non-resource variables are not supported in the long term\n"
          ]
        },
        {
          "output_type": "stream",
          "name": "stdout",
          "text": [
            "Downloading Oxford 17 category Flower Dataset, Please wait...\n"
          ]
        },
        {
          "output_type": "stream",
          "name": "stderr",
          "text": [
            "100.0% 60276736 / 60270631\n"
          ]
        },
        {
          "output_type": "stream",
          "name": "stdout",
          "text": [
            "Succesfully downloaded 17flowers.tgz 60270631 bytes.\n",
            "File Extracted\n",
            "Starting to parse images...\n",
            "Parsing Done!\n"
          ]
        }
      ]
    },
    {
      "cell_type": "code",
      "source": [
        "# (3) Create a sequential model\n",
        "model = Sequential()"
      ],
      "metadata": {
        "id": "y1eYDHrLbPDD"
      },
      "execution_count": 4,
      "outputs": []
    },
    {
      "cell_type": "code",
      "source": [
        "# 1st Convolutional Layer\n",
        "model.add(Conv2D(filters=96, input_shape=(224,224,3), kernel_size=(11,11),\\\n",
        " strides=(4,4), padding='valid'))\n",
        "model.add(Activation('relu'))"
      ],
      "metadata": {
        "id": "2GOmNdqfbUge"
      },
      "execution_count": 5,
      "outputs": []
    },
    {
      "cell_type": "code",
      "source": [
        "# Pooling \n",
        "model.add(MaxPooling2D(pool_size=(2,2), strides=(2,2), padding='valid'))\n",
        "# Batch Normalisation before passing it to the next layer\n",
        "model.add(BatchNormalization())"
      ],
      "metadata": {
        "colab": {
          "base_uri": "https://localhost:8080/"
        },
        "id": "alGdRGXJbSB1",
        "outputId": "6a4fb941-1748-4b55-c880-34b114745418"
      },
      "execution_count": 6,
      "outputs": [
        {
          "output_type": "stream",
          "name": "stderr",
          "text": [
            "WARNING:tensorflow:From /usr/local/lib/python3.7/dist-packages/keras/layers/normalization/batch_normalization.py:514: _colocate_with (from tensorflow.python.framework.ops) is deprecated and will be removed in a future version.\n",
            "Instructions for updating:\n",
            "Colocations handled automatically by placer.\n"
          ]
        }
      ]
    },
    {
      "cell_type": "code",
      "source": [
        "\n",
        "# 2nd Convolutional Layer\n",
        "model.add(Conv2D(filters=256, kernel_size=(11,11), strides=(1,1), padding='valid'))\n",
        "model.add(Activation('relu'))"
      ],
      "metadata": {
        "id": "Qt0A3pX-bff0"
      },
      "execution_count": 7,
      "outputs": []
    },
    {
      "cell_type": "code",
      "source": [
        "# Pooling\n",
        "model.add(MaxPooling2D(pool_size=(2,2), strides=(2,2), padding='valid'))\n",
        "# Batch Normalisation\n",
        "model.add(BatchNormalization())"
      ],
      "metadata": {
        "id": "4jAKDXNnbjVZ"
      },
      "execution_count": 8,
      "outputs": []
    },
    {
      "cell_type": "code",
      "source": [
        "# 3rd Convolutional Layer\n",
        "model.add(Conv2D(filters=384, kernel_size=(3,3), strides=(1,1), padding='valid'))\n",
        "model.add(Activation('relu'))\n",
        "# Batch Normalisation\n",
        "model.add(BatchNormalization())"
      ],
      "metadata": {
        "id": "qPxE_VBPbfc4"
      },
      "execution_count": 9,
      "outputs": []
    },
    {
      "cell_type": "code",
      "source": [
        "# 4th Convolutional Layer\n",
        "model.add(Conv2D(filters=384, kernel_size=(3,3), strides=(1,1), padding='valid'))\n",
        "model.add(Activation('relu'))\n",
        "# Batch Normalisation\n",
        "model.add(BatchNormalization())"
      ],
      "metadata": {
        "id": "nFBQFc4kbt4d"
      },
      "execution_count": 10,
      "outputs": []
    },
    {
      "cell_type": "code",
      "source": [
        "# 5th Convolutional Layer\n",
        "model.add(Conv2D(filters=256, kernel_size=(3,3), strides=(1,1), padding='valid'))\n",
        "model.add(Activation('relu'))"
      ],
      "metadata": {
        "id": "3w1OHTPFb5DL"
      },
      "execution_count": 11,
      "outputs": []
    },
    {
      "cell_type": "code",
      "source": [
        "# Pooling\n",
        "model.add(MaxPooling2D(pool_size=(2,2), strides=(2,2), padding='valid'))\n",
        "# Batch Normalisation\n",
        "model.add(BatchNormalization())"
      ],
      "metadata": {
        "id": "N2dHuhNRb_71"
      },
      "execution_count": 12,
      "outputs": []
    },
    {
      "cell_type": "code",
      "source": [
        "# Passing it to a dense layer\n",
        "model.add(Flatten())\n",
        "# 1st Dense Layer\n",
        "model.add(Dense(4096, input_shape=(224*224*3,)))\n",
        "model.add(Activation('relu'))\n",
        "# Add Dropout to prevent overfitting\n",
        "model.add(Dropout(0.4))\n",
        "# Batch Normalisation\n",
        "model.add(BatchNormalization())"
      ],
      "metadata": {
        "id": "TTlyhdXTcGQb"
      },
      "execution_count": 13,
      "outputs": []
    },
    {
      "cell_type": "code",
      "source": [
        "# 2nd Dense Layer\n",
        "model.add(Dense(4096))\n",
        "model.add(Activation('relu'))\n",
        "# Add Dropout\n",
        "model.add(Dropout(0.4))\n",
        "# Batch Normalisation\n",
        "model.add(BatchNormalization())"
      ],
      "metadata": {
        "id": "XAtUjjTJcIBf"
      },
      "execution_count": 14,
      "outputs": []
    },
    {
      "cell_type": "code",
      "source": [
        "# 3rd Dense Layer\n",
        "model.add(Dense(1000))\n",
        "model.add(Activation('relu'))\n",
        "# Add Dropout\n",
        "model.add(Dropout(0.4))\n",
        "# Batch Normalisation\n",
        "model.add(BatchNormalization())"
      ],
      "metadata": {
        "id": "uBYR2zvUcMB-"
      },
      "execution_count": 15,
      "outputs": []
    },
    {
      "cell_type": "code",
      "source": [
        "# Output Layer\n",
        "model.add(Dense(17))\n",
        "model.add(Activation('softmax'))"
      ],
      "metadata": {
        "id": "VZeGUU8pcT0s"
      },
      "execution_count": 16,
      "outputs": []
    },
    {
      "cell_type": "code",
      "source": [
        "model.summary()"
      ],
      "metadata": {
        "colab": {
          "base_uri": "https://localhost:8080/"
        },
        "id": "08wKC7maei4_",
        "outputId": "95bea150-13b0-486a-8dba-bd70b3fe2c7b"
      },
      "execution_count": 17,
      "outputs": [
        {
          "output_type": "stream",
          "name": "stdout",
          "text": [
            "Model: \"sequential\"\n",
            "_________________________________________________________________\n",
            " Layer (type)                Output Shape              Param #   \n",
            "=================================================================\n",
            " conv2d (Conv2D)             (None, 54, 54, 96)        34944     \n",
            "                                                                 \n",
            " activation (Activation)     (None, 54, 54, 96)        0         \n",
            "                                                                 \n",
            " max_pooling2d (MaxPooling2D  (None, 27, 27, 96)       0         \n",
            " )                                                               \n",
            "                                                                 \n",
            " batch_normalization (BatchN  (None, 27, 27, 96)       384       \n",
            " ormalization)                                                   \n",
            "                                                                 \n",
            " conv2d_1 (Conv2D)           (None, 17, 17, 256)       2973952   \n",
            "                                                                 \n",
            " activation_1 (Activation)   (None, 17, 17, 256)       0         \n",
            "                                                                 \n",
            " max_pooling2d_1 (MaxPooling  (None, 8, 8, 256)        0         \n",
            " 2D)                                                             \n",
            "                                                                 \n",
            " batch_normalization_1 (Batc  (None, 8, 8, 256)        1024      \n",
            " hNormalization)                                                 \n",
            "                                                                 \n",
            " conv2d_2 (Conv2D)           (None, 6, 6, 384)         885120    \n",
            "                                                                 \n",
            " activation_2 (Activation)   (None, 6, 6, 384)         0         \n",
            "                                                                 \n",
            " batch_normalization_2 (Batc  (None, 6, 6, 384)        1536      \n",
            " hNormalization)                                                 \n",
            "                                                                 \n",
            " conv2d_3 (Conv2D)           (None, 4, 4, 384)         1327488   \n",
            "                                                                 \n",
            " activation_3 (Activation)   (None, 4, 4, 384)         0         \n",
            "                                                                 \n",
            " batch_normalization_3 (Batc  (None, 4, 4, 384)        1536      \n",
            " hNormalization)                                                 \n",
            "                                                                 \n",
            " conv2d_4 (Conv2D)           (None, 2, 2, 256)         884992    \n",
            "                                                                 \n",
            " activation_4 (Activation)   (None, 2, 2, 256)         0         \n",
            "                                                                 \n",
            " max_pooling2d_2 (MaxPooling  (None, 1, 1, 256)        0         \n",
            " 2D)                                                             \n",
            "                                                                 \n",
            " batch_normalization_4 (Batc  (None, 1, 1, 256)        1024      \n",
            " hNormalization)                                                 \n",
            "                                                                 \n",
            " flatten (Flatten)           (None, 256)               0         \n",
            "                                                                 \n",
            " dense (Dense)               (None, 4096)              1052672   \n",
            "                                                                 \n",
            " activation_5 (Activation)   (None, 4096)              0         \n",
            "                                                                 \n",
            " dropout (Dropout)           (None, 4096)              0         \n",
            "                                                                 \n",
            " batch_normalization_5 (Batc  (None, 4096)             16384     \n",
            " hNormalization)                                                 \n",
            "                                                                 \n",
            " dense_1 (Dense)             (None, 4096)              16781312  \n",
            "                                                                 \n",
            " activation_6 (Activation)   (None, 4096)              0         \n",
            "                                                                 \n",
            " dropout_1 (Dropout)         (None, 4096)              0         \n",
            "                                                                 \n",
            " batch_normalization_6 (Batc  (None, 4096)             16384     \n",
            " hNormalization)                                                 \n",
            "                                                                 \n",
            " dense_2 (Dense)             (None, 1000)              4097000   \n",
            "                                                                 \n",
            " activation_7 (Activation)   (None, 1000)              0         \n",
            "                                                                 \n",
            " dropout_2 (Dropout)         (None, 1000)              0         \n",
            "                                                                 \n",
            " batch_normalization_7 (Batc  (None, 1000)             4000      \n",
            " hNormalization)                                                 \n",
            "                                                                 \n",
            " dense_3 (Dense)             (None, 17)                17017     \n",
            "                                                                 \n",
            " activation_8 (Activation)   (None, 17)                0         \n",
            "                                                                 \n",
            "=================================================================\n",
            "Total params: 28,096,769\n",
            "Trainable params: 28,075,633\n",
            "Non-trainable params: 21,136\n",
            "_________________________________________________________________\n"
          ]
        }
      ]
    },
    {
      "cell_type": "code",
      "source": [
        "# (4) Compile \n",
        "model.compile(loss='categorical_crossentropy', optimizer='adam',\\\n",
        " metrics=['accuracy'])\n",
        "\n",
        "# (5) Train\n",
        "model.fit(x, y, batch_size=64, epochs=20, verbose=1, \n",
        "validation_split=0.2, shuffle=True)"
      ],
      "metadata": {
        "colab": {
          "base_uri": "https://localhost:8080/"
        },
        "id": "6SrBXKvBcZKy",
        "outputId": "0a6c22b2-cd50-4127-f330-4bf264ca46b7"
      },
      "execution_count": 19,
      "outputs": [
        {
          "output_type": "stream",
          "name": "stdout",
          "text": [
            "Train on 1088 samples, validate on 272 samples\n",
            "Epoch 1/20\n",
            "1088/1088 [==============================] - 2s 2ms/sample - loss: 1.9248 - acc: 0.4357 - val_loss: 17.8410 - val_acc: 0.2426\n",
            "Epoch 2/20\n",
            "1088/1088 [==============================] - 1s 1ms/sample - loss: 1.5193 - acc: 0.5165 - val_loss: 11.5934 - val_acc: 0.2610\n",
            "Epoch 3/20\n",
            "1088/1088 [==============================] - 1s 1ms/sample - loss: 1.2310 - acc: 0.5993 - val_loss: 9.3575 - val_acc: 0.2904\n",
            "Epoch 4/20\n",
            "1088/1088 [==============================] - 1s 1ms/sample - loss: 1.0275 - acc: 0.6480 - val_loss: 9.5892 - val_acc: 0.3162\n",
            "Epoch 5/20\n",
            "1088/1088 [==============================] - 1s 1ms/sample - loss: 0.9317 - acc: 0.6811 - val_loss: 9.6756 - val_acc: 0.3125\n",
            "Epoch 6/20\n",
            "1088/1088 [==============================] - 1s 1ms/sample - loss: 0.8165 - acc: 0.7261 - val_loss: 7.9558 - val_acc: 0.3235\n",
            "Epoch 7/20\n",
            "1088/1088 [==============================] - 1s 1ms/sample - loss: 0.7935 - acc: 0.7472 - val_loss: 10.5507 - val_acc: 0.2537\n",
            "Epoch 8/20\n",
            "1088/1088 [==============================] - 1s 1ms/sample - loss: 0.6814 - acc: 0.7840 - val_loss: 11.6867 - val_acc: 0.2500\n",
            "Epoch 9/20\n",
            "1088/1088 [==============================] - 1s 1ms/sample - loss: 0.6270 - acc: 0.7895 - val_loss: 6.5058 - val_acc: 0.3162\n",
            "Epoch 10/20\n",
            "1088/1088 [==============================] - 1s 1ms/sample - loss: 0.5405 - acc: 0.8254 - val_loss: 4.8700 - val_acc: 0.3971\n",
            "Epoch 11/20\n",
            "1088/1088 [==============================] - 1s 1ms/sample - loss: 0.5218 - acc: 0.8180 - val_loss: 6.1919 - val_acc: 0.2904\n",
            "Epoch 12/20\n",
            "1088/1088 [==============================] - 1s 1ms/sample - loss: 0.4872 - acc: 0.8272 - val_loss: 8.7454 - val_acc: 0.2353\n",
            "Epoch 13/20\n",
            "1088/1088 [==============================] - 1s 1ms/sample - loss: 0.3917 - acc: 0.8667 - val_loss: 4.5174 - val_acc: 0.4338\n",
            "Epoch 14/20\n",
            "1088/1088 [==============================] - 1s 1ms/sample - loss: 0.3792 - acc: 0.8713 - val_loss: 4.8886 - val_acc: 0.4191\n",
            "Epoch 15/20\n",
            "1088/1088 [==============================] - 1s 1ms/sample - loss: 0.3120 - acc: 0.8915 - val_loss: 4.0422 - val_acc: 0.4963\n",
            "Epoch 16/20\n",
            "1088/1088 [==============================] - 1s 1ms/sample - loss: 0.2978 - acc: 0.9090 - val_loss: 6.0463 - val_acc: 0.4044\n",
            "Epoch 17/20\n",
            "1088/1088 [==============================] - 1s 1ms/sample - loss: 0.2769 - acc: 0.9035 - val_loss: 6.5839 - val_acc: 0.4412\n",
            "Epoch 18/20\n",
            "1088/1088 [==============================] - 1s 1ms/sample - loss: 0.3325 - acc: 0.8934 - val_loss: 4.3177 - val_acc: 0.4596\n",
            "Epoch 19/20\n",
            "1088/1088 [==============================] - 1s 1ms/sample - loss: 0.2432 - acc: 0.9099 - val_loss: 4.0936 - val_acc: 0.4890\n",
            "Epoch 20/20\n",
            "1088/1088 [==============================] - 1s 1ms/sample - loss: 0.1839 - acc: 0.9347 - val_loss: 3.9030 - val_acc: 0.4926\n"
          ]
        },
        {
          "output_type": "execute_result",
          "data": {
            "text/plain": [
              "<keras.callbacks.History at 0x7fb507a837d0>"
            ]
          },
          "metadata": {},
          "execution_count": 19
        }
      ]
    }
  ]
}